{
 "cells": [
  {
   "cell_type": "markdown",
   "metadata": {},
   "source": [
    "#  Jupyter Lab | <font color = 'Blue'> A Guide <font/>\n",
    "\n",
    "### <font color = 'green'> Kernel <font/>\n",
    "* In the **top right** you should see a circular icon next to \"Python 3\" - **this is the \"kernel\"** or \"environment\" you are running this code with\n",
    "* In the **bottom left** you should also see Python 3 | Idle - this can also be \"running\" or \"dead\"\n",
    "* If there is nothing there you need to restart your kernal! (Reboot JupyterLab)\n",
    "* Under the \"Kernel\" tab at the top you can: interrupt, shut or restart the kernel\n",
    "\n",
    "### <font color = 'green'> Left Sidebar <font/>\n",
    "* You can navigate your computer using the left sidebar and clicking on the folder icon\n",
    "* Open .ipynb and .py files, images, .pdfs and slide decks\n",
    "* Preview .csv and .xlsx files\n",
    "* Edit .txt files\n",
    "* Shut the kernel for sessions by clicking on the stop icon (useful if your code freezes/breaks)\n",
    "\n",
    "### <font color = 'green'> User-Interface (UI) <font/>\n",
    "* You can switch between tabs at the top of the page\n",
    "* Right-click to close and rename tabs\n",
    "* Drag and drop tabs to view multiple windows simultaneously\n",
    "    \n",
    "### <font color = 'green'> Shortcuts <font/>\n",
    "For **cell shortcuts**, click outside the cell\n",
    "* View/Hide Left Panel Sidebar: CTRL + B\n",
    "* Create new cell: B\n",
    "* Cut cell: X\n",
    "* Paste cell: V\n",
    "* Undo Operation: Z\n",
    "* Merge cells (hold shift to select multiple in a row): CTRL + M\n",
    "* Interrupt kernel: I, I\n",
    "\n",
    "<br>For **cell operations**, click inside a cell\n",
    "* Run cell: SHIFT + ENTER\n",
    "* Undo Operation: CTRL + Z\n",
    "* Redo Operation: CTRL + SHIFT + Z\n",
    "* Split cells (from where cursor is located): CTRL + SHIFT + -\n",
    "\n",
    "You can view them all under the \"View\" tab at the top\n",
    "    \n"
   ]
  },
  {
   "cell_type": "code",
   "execution_count": null,
   "metadata": {},
   "outputs": [],
   "source": [
    "# Try it out now! Be careful not to delete the guide!\n",
    "# (Danger points if you delete the guide and bring it back unscathed)"
   ]
  },
  {
   "cell_type": "markdown",
   "metadata": {},
   "source": [
    "#  Jupyter Lab | <font color = 'Blue'> Using Markdown <font/>\n",
    "\n",
    "Every chunk of text like this one is actually \"markdown\" (basically html)\n",
    "<br> **Double click a cell** to see what I mean!\n",
    "<br> (Press run to change it back)\n",
    "   "
   ]
  },
  {
   "cell_type": "markdown",
   "metadata": {},
   "source": [
    "---\n",
    "\n",
    "## This  is <font color='orange'>An Example</font>\n",
    "\n",
    "### This Superb Sub-Heading in **Bold**\n",
    "\n",
    "##### _More Hashes Make Smaller Titles and underscores make italics_\n",
    "\n",
    "Here are some interesting Key Points:\n",
    "* We can make a bullet point using * and a space - notice it will turn blue\n",
    "* Remember, for markdown things have a < beggining > \n",
    "* and an < end/ >\n",
    "\n",
    "For a single line break we can use: < br >\n",
    "<br><br> Like this.\n",
    "\n",
    "---"
   ]
  },
  {
   "cell_type": "markdown",
   "metadata": {},
   "source": [
    "#  Jupyter Lab | <font color = 'Blue'>  Running Python <font/>\n"
   ]
  },
  {
   "cell_type": "markdown",
   "metadata": {},
   "source": [
    "### We'll use some code now!\n",
    "\n",
    "Let's practice working with some basic data types - consider this learning the basic words of a language or the notes in music: they don't mean much by themselves but can be strung together to form a complex structure\n"
   ]
  },
  {
   "cell_type": "markdown",
   "metadata": {},
   "source": [
    "#### String (str) - text\n"
   ]
  },
  {
   "cell_type": "code",
   "execution_count": 7,
   "metadata": {},
   "outputs": [
    {
     "data": {
      "text/plain": [
       "'you can use three quotes to write\\non multiple lines'"
      ]
     },
     "execution_count": 7,
     "metadata": {},
     "output_type": "execute_result"
    }
   ],
   "source": [
    "\"you can use double quotes\" \n",
    "\n",
    "'you can use single quotes'\n",
    "\n",
    "\"\"\"you can use three quotes to write\n",
    "on multiple lines\"\"\""
   ]
  },
  {
   "cell_type": "markdown",
   "metadata": {},
   "source": [
    "#### Integer (int) - a whole number"
   ]
  },
  {
   "cell_type": "code",
   "execution_count": 2,
   "metadata": {},
   "outputs": [
    {
     "data": {
      "text/plain": [
       "12"
      ]
     },
     "execution_count": 2,
     "metadata": {},
     "output_type": "execute_result"
    }
   ],
   "source": [
    "12\n"
   ]
  },
  {
   "cell_type": "markdown",
   "metadata": {},
   "source": [
    "#### Float - a number with decimals\n"
   ]
  },
  {
   "cell_type": "code",
   "execution_count": 3,
   "metadata": {},
   "outputs": [
    {
     "data": {
      "text/plain": [
       "10.05"
      ]
     },
     "execution_count": 3,
     "metadata": {},
     "output_type": "execute_result"
    }
   ],
   "source": [
    "10.05\n"
   ]
  },
  {
   "cell_type": "markdown",
   "metadata": {},
   "source": [
    "#### List - wrapped in [brackets]\n"
   ]
  },
  {
   "cell_type": "code",
   "execution_count": null,
   "metadata": {},
   "outputs": [],
   "source": [
    "['this', 'is', 'a', 'list']\n"
   ]
  },
  {
   "cell_type": "markdown",
   "metadata": {},
   "source": [
    "#### Tuple - wrapped in (parantheses)\n"
   ]
  },
  {
   "cell_type": "code",
   "execution_count": null,
   "metadata": {},
   "outputs": [],
   "source": [
    "('this', 'is', 'a', 'tuple')\n"
   ]
  },
  {
   "cell_type": "markdown",
   "metadata": {},
   "source": [
    "#### Dictionary - wrapped in {braces} and form key:value pairs \n"
   ]
  },
  {
   "cell_type": "code",
   "execution_count": 5,
   "metadata": {},
   "outputs": [
    {
     "data": {
      "text/plain": [
       "{'First_name': 'Greg',\n",
       " 'Surname': 'Simon',\n",
       " 'age': 26,\n",
       " 'profession': 'Data Coach'}"
      ]
     },
     "execution_count": 5,
     "metadata": {},
     "output_type": "execute_result"
    }
   ],
   "source": [
    "greg = {'First_name' : 'Greg' , 'Surname' : 'Simon' , 'Age' : 26 , 'Profession' : 'Data Coach'}\n",
    "\n",
    "greg"
   ]
  },
  {
   "cell_type": "markdown",
   "metadata": {},
   "source": [
    "### Try it out below!"
   ]
  },
  {
   "cell_type": "code",
   "execution_count": 1,
   "metadata": {},
   "outputs": [
    {
     "name": "stdout",
     "output_type": "stream",
     "text": [
      "1 2\n"
     ]
    }
   ],
   "source": [
    "# Create a variable containing the name of your favourite album by them\n",
    "\n",
    "\n",
    "\n",
    "# Create a list containing the songs within that album (or some of them)\n",
    "\n",
    "\n",
    "\n",
    "# Create a variable containing the length of the album ()\n",
    "\n",
    "\n",
    "\n",
    "# Create a dictionary which stores all of this information\n",
    "\n",
    "\n",
    "Start = 1\n",
    "start = 2 \n",
    "\n",
    "print(Start, start)\n"
   ]
  },
  {
   "cell_type": "code",
   "execution_count": 25,
   "metadata": {},
   "outputs": [
    {
     "data": {
      "text/plain": [
       "['Hello', 'World']"
      ]
     },
     "execution_count": 25,
     "metadata": {},
     "output_type": "execute_result"
    }
   ],
   "source": [
    "a = ['Hello', 'World']\n",
    "a"
   ]
  },
  {
   "cell_type": "code",
   "execution_count": 29,
   "metadata": {},
   "outputs": [
    {
     "data": {
      "text/plain": [
       "'World'"
      ]
     },
     "execution_count": 29,
     "metadata": {},
     "output_type": "execute_result"
    }
   ],
   "source": [
    "a[1][0]"
   ]
  },
  {
   "cell_type": "code",
   "execution_count": 33,
   "metadata": {},
   "outputs": [],
   "source": [
    "import pandas as pd\n",
    "from sklearn import cluster"
   ]
  },
  {
   "cell_type": "code",
   "execution_count": null,
   "metadata": {},
   "outputs": [],
   "source": []
  }
 ],
 "metadata": {
  "kernelspec": {
   "display_name": "Python 3",
   "language": "python",
   "name": "python3"
  },
  "language_info": {
   "codemirror_mode": {
    "name": "ipython",
    "version": 3
   },
   "file_extension": ".py",
   "mimetype": "text/x-python",
   "name": "python",
   "nbconvert_exporter": "python",
   "pygments_lexer": "ipython3",
   "version": "3.7.6"
  }
 },
 "nbformat": 4,
 "nbformat_minor": 4
}
